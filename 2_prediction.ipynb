{
 "cells": [
  {
   "cell_type": "code",
   "execution_count": 10,
   "metadata": {},
   "outputs": [],
   "source": [
    "import numpy as np\n",
    "import tensorflow as tf\n",
    "from tensorflow.keras.datasets import imdb\n",
    "from tensorflow.keras.preprocessing import sequence\n",
    "from tensorflow.keras.models import Sequential\n",
    "from tensorflow.keras.layers import Embedding,SimpleRNN,Dense\n",
    "from tensorflow.keras.models import load_model\n"
   ]
  },
  {
   "cell_type": "code",
   "execution_count": 11,
   "metadata": {},
   "outputs": [],
   "source": [
    "# load the imdb data set word index\n",
    "word_index = imdb.get_word_index()\n",
    "reverse_word_index = {value: key for key, value in word_index.items()}"
   ]
  },
  {
   "cell_type": "code",
   "execution_count": 12,
   "metadata": {},
   "outputs": [
    {
     "name": "stderr",
     "output_type": "stream",
     "text": [
      "WARNING:absl:Compiled the loaded model, but the compiled metrics have yet to be built. `model.compile_metrics` will be empty until you train or evaluate the model.\n"
     ]
    }
   ],
   "source": [
    "# load the pre-trained model with ReLU activation\n",
    "model = load_model('simple_rnn_imdb.h5')"
   ]
  },
  {
   "cell_type": "code",
   "execution_count": 13,
   "metadata": {},
   "outputs": [
    {
     "data": {
      "text/html": [
       "<pre style=\"white-space:pre;overflow-x:auto;line-height:normal;font-family:Menlo,'DejaVu Sans Mono',consolas,'Courier New',monospace\"><span style=\"font-weight: bold\">Model: \"sequential_5\"</span>\n",
       "</pre>\n"
      ],
      "text/plain": [
       "\u001b[1mModel: \"sequential_5\"\u001b[0m\n"
      ]
     },
     "metadata": {},
     "output_type": "display_data"
    },
    {
     "data": {
      "text/html": [
       "<pre style=\"white-space:pre;overflow-x:auto;line-height:normal;font-family:Menlo,'DejaVu Sans Mono',consolas,'Courier New',monospace\">┏━━━━━━━━━━━━━━━━━━━━━━━━━━━━━━━━━┳━━━━━━━━━━━━━━━━━━━━━━━━┳━━━━━━━━━━━━━━━┓\n",
       "┃<span style=\"font-weight: bold\"> Layer (type)                    </span>┃<span style=\"font-weight: bold\"> Output Shape           </span>┃<span style=\"font-weight: bold\">       Param # </span>┃\n",
       "┡━━━━━━━━━━━━━━━━━━━━━━━━━━━━━━━━━╇━━━━━━━━━━━━━━━━━━━━━━━━╇━━━━━━━━━━━━━━━┩\n",
       "│ embedding_5 (<span style=\"color: #0087ff; text-decoration-color: #0087ff\">Embedding</span>)         │ (<span style=\"color: #00d7ff; text-decoration-color: #00d7ff\">None</span>, <span style=\"color: #00af00; text-decoration-color: #00af00\">500</span>, <span style=\"color: #00af00; text-decoration-color: #00af00\">128</span>)       │     <span style=\"color: #00af00; text-decoration-color: #00af00\">1,280,000</span> │\n",
       "├─────────────────────────────────┼────────────────────────┼───────────────┤\n",
       "│ simple_rnn_5 (<span style=\"color: #0087ff; text-decoration-color: #0087ff\">SimpleRNN</span>)        │ (<span style=\"color: #00d7ff; text-decoration-color: #00d7ff\">None</span>, <span style=\"color: #00af00; text-decoration-color: #00af00\">128</span>)            │        <span style=\"color: #00af00; text-decoration-color: #00af00\">32,896</span> │\n",
       "├─────────────────────────────────┼────────────────────────┼───────────────┤\n",
       "│ dense_5 (<span style=\"color: #0087ff; text-decoration-color: #0087ff\">Dense</span>)                 │ (<span style=\"color: #00d7ff; text-decoration-color: #00d7ff\">None</span>, <span style=\"color: #00af00; text-decoration-color: #00af00\">1</span>)              │           <span style=\"color: #00af00; text-decoration-color: #00af00\">129</span> │\n",
       "└─────────────────────────────────┴────────────────────────┴───────────────┘\n",
       "</pre>\n"
      ],
      "text/plain": [
       "┏━━━━━━━━━━━━━━━━━━━━━━━━━━━━━━━━━┳━━━━━━━━━━━━━━━━━━━━━━━━┳━━━━━━━━━━━━━━━┓\n",
       "┃\u001b[1m \u001b[0m\u001b[1mLayer (type)                   \u001b[0m\u001b[1m \u001b[0m┃\u001b[1m \u001b[0m\u001b[1mOutput Shape          \u001b[0m\u001b[1m \u001b[0m┃\u001b[1m \u001b[0m\u001b[1m      Param #\u001b[0m\u001b[1m \u001b[0m┃\n",
       "┡━━━━━━━━━━━━━━━━━━━━━━━━━━━━━━━━━╇━━━━━━━━━━━━━━━━━━━━━━━━╇━━━━━━━━━━━━━━━┩\n",
       "│ embedding_5 (\u001b[38;5;33mEmbedding\u001b[0m)         │ (\u001b[38;5;45mNone\u001b[0m, \u001b[38;5;34m500\u001b[0m, \u001b[38;5;34m128\u001b[0m)       │     \u001b[38;5;34m1,280,000\u001b[0m │\n",
       "├─────────────────────────────────┼────────────────────────┼───────────────┤\n",
       "│ simple_rnn_5 (\u001b[38;5;33mSimpleRNN\u001b[0m)        │ (\u001b[38;5;45mNone\u001b[0m, \u001b[38;5;34m128\u001b[0m)            │        \u001b[38;5;34m32,896\u001b[0m │\n",
       "├─────────────────────────────────┼────────────────────────┼───────────────┤\n",
       "│ dense_5 (\u001b[38;5;33mDense\u001b[0m)                 │ (\u001b[38;5;45mNone\u001b[0m, \u001b[38;5;34m1\u001b[0m)              │           \u001b[38;5;34m129\u001b[0m │\n",
       "└─────────────────────────────────┴────────────────────────┴───────────────┘\n"
      ]
     },
     "metadata": {},
     "output_type": "display_data"
    },
    {
     "data": {
      "text/html": [
       "<pre style=\"white-space:pre;overflow-x:auto;line-height:normal;font-family:Menlo,'DejaVu Sans Mono',consolas,'Courier New',monospace\"><span style=\"font-weight: bold\"> Total params: </span><span style=\"color: #00af00; text-decoration-color: #00af00\">1,313,027</span> (5.01 MB)\n",
       "</pre>\n"
      ],
      "text/plain": [
       "\u001b[1m Total params: \u001b[0m\u001b[38;5;34m1,313,027\u001b[0m (5.01 MB)\n"
      ]
     },
     "metadata": {},
     "output_type": "display_data"
    },
    {
     "data": {
      "text/html": [
       "<pre style=\"white-space:pre;overflow-x:auto;line-height:normal;font-family:Menlo,'DejaVu Sans Mono',consolas,'Courier New',monospace\"><span style=\"font-weight: bold\"> Trainable params: </span><span style=\"color: #00af00; text-decoration-color: #00af00\">1,313,025</span> (5.01 MB)\n",
       "</pre>\n"
      ],
      "text/plain": [
       "\u001b[1m Trainable params: \u001b[0m\u001b[38;5;34m1,313,025\u001b[0m (5.01 MB)\n"
      ]
     },
     "metadata": {},
     "output_type": "display_data"
    },
    {
     "data": {
      "text/html": [
       "<pre style=\"white-space:pre;overflow-x:auto;line-height:normal;font-family:Menlo,'DejaVu Sans Mono',consolas,'Courier New',monospace\"><span style=\"font-weight: bold\"> Non-trainable params: </span><span style=\"color: #00af00; text-decoration-color: #00af00\">0</span> (0.00 B)\n",
       "</pre>\n"
      ],
      "text/plain": [
       "\u001b[1m Non-trainable params: \u001b[0m\u001b[38;5;34m0\u001b[0m (0.00 B)\n"
      ]
     },
     "metadata": {},
     "output_type": "display_data"
    },
    {
     "data": {
      "text/html": [
       "<pre style=\"white-space:pre;overflow-x:auto;line-height:normal;font-family:Menlo,'DejaVu Sans Mono',consolas,'Courier New',monospace\"><span style=\"font-weight: bold\"> Optimizer params: </span><span style=\"color: #00af00; text-decoration-color: #00af00\">2</span> (12.00 B)\n",
       "</pre>\n"
      ],
      "text/plain": [
       "\u001b[1m Optimizer params: \u001b[0m\u001b[38;5;34m2\u001b[0m (12.00 B)\n"
      ]
     },
     "metadata": {},
     "output_type": "display_data"
    }
   ],
   "source": [
    "model.summary()"
   ]
  },
  {
   "cell_type": "code",
   "execution_count": 14,
   "metadata": {},
   "outputs": [
    {
     "data": {
      "text/plain": [
       "[array([[ 0.0145263 , -0.01327924, -0.0008339 , ..., -0.0082663 ,\n",
       "         -0.03794296,  0.00914162],\n",
       "        [ 0.01284098, -0.00351846, -0.00809137, ..., -0.03788423,\n",
       "         -0.0069484 , -0.00598945],\n",
       "        [-0.01515539, -0.04656608,  0.06004774, ..., -0.01834177,\n",
       "          0.0336808 , -0.04585706],\n",
       "        ...,\n",
       "        [ 0.01519127, -0.04382016,  0.05064682, ...,  0.00907098,\n",
       "         -0.03809525, -0.04231549],\n",
       "        [ 0.03805143, -0.04970174, -0.04686702, ..., -0.01874523,\n",
       "         -0.00278694,  0.03939275],\n",
       "        [-0.04381322,  0.02479162, -0.04602804, ...,  0.04102947,\n",
       "         -0.01453701, -0.03747931]], dtype=float32),\n",
       " array([[-0.12523177,  0.1505413 ,  0.0037449 , ...,  0.00972015,\n",
       "          0.12148157,  0.1284711 ],\n",
       "        [-0.0529948 , -0.09645121, -0.14271596, ..., -0.06192644,\n",
       "          0.04676032,  0.14586654],\n",
       "        [-0.01026396, -0.01599843,  0.14831062, ..., -0.09897263,\n",
       "          0.00546649,  0.13665372],\n",
       "        ...,\n",
       "        [-0.11217857,  0.11881793, -0.07722056, ...,  0.13819638,\n",
       "         -0.09517585,  0.04286706],\n",
       "        [-0.15416422, -0.10679153,  0.07447288, ..., -0.05699105,\n",
       "         -0.0019384 ,  0.11110119],\n",
       "        [ 0.00480167,  0.11626956,  0.13117939, ...,  0.12100424,\n",
       "         -0.12270306,  0.01054524]], dtype=float32),\n",
       " array([[-0.07968991, -0.03477575, -0.03878998, ...,  0.15242973,\n",
       "         -0.02952369,  0.13519706],\n",
       "        [-0.03165291, -0.01319642, -0.04648986, ..., -0.00658434,\n",
       "          0.03888124, -0.03532093],\n",
       "        [ 0.04295478,  0.06862118,  0.0175308 , ...,  0.01971767,\n",
       "         -0.00675902, -0.00816668],\n",
       "        ...,\n",
       "        [ 0.07443986, -0.041352  , -0.06192433, ...,  0.08866054,\n",
       "          0.05616177, -0.19321373],\n",
       "        [-0.18460655, -0.06582922,  0.11250089, ..., -0.09636497,\n",
       "          0.12215285,  0.16734642],\n",
       "        [ 0.05003594,  0.01683807, -0.09075609, ..., -0.17330222,\n",
       "         -0.00261716,  0.03939002]], dtype=float32),\n",
       " array([-0.00520751, -0.00166081,  0.02339433,  0.00335567, -0.023093  ,\n",
       "         0.00224401,  0.01306081, -0.01506688,  0.02192202,  0.01026216,\n",
       "         0.00965648,  0.00661137,  0.0115642 ,  0.0046815 ,  0.0279688 ,\n",
       "         0.07274044, -0.00897833, -0.02051035,  0.02957791,  0.00358362,\n",
       "         0.01023742, -0.02427475, -0.00660907,  0.0175584 ,  0.00548388,\n",
       "         0.02066505,  0.00220511,  0.01673621, -0.0130552 ,  0.00072816,\n",
       "         0.01908894,  0.00014403,  0.01831525,  0.0102513 , -0.01253164,\n",
       "        -0.00238381, -0.01363189, -0.00697658,  0.01271704,  0.00024334,\n",
       "        -0.01079353,  0.01492604, -0.01667599,  0.01383211,  0.01327566,\n",
       "         0.02239486, -0.01482569,  0.01053716, -0.00331711,  0.01398899,\n",
       "         0.03826503,  0.00833135,  0.0215753 ,  0.002944  , -0.01230744,\n",
       "         0.01057208, -0.01041978,  0.01542449,  0.00843447,  0.01432257,\n",
       "         0.00314443,  0.00989482,  0.01749244, -0.04527854, -0.01409311,\n",
       "        -0.02095565,  0.00938811,  0.03326389,  0.00382506, -0.01406524,\n",
       "        -0.02083205, -0.00820344, -0.01106901,  0.00740677,  0.02696809,\n",
       "         0.01684692, -0.02871088, -0.00951313, -0.00312677, -0.0226358 ,\n",
       "         0.00032465,  0.02326591, -0.00504411,  0.01001257,  0.00780994,\n",
       "         0.00234685,  0.00934436, -0.01348985,  0.00940042, -0.01752771,\n",
       "        -0.02406472, -0.0228426 ,  0.02550978,  0.01035372,  0.01247472,\n",
       "         0.01408905, -0.00503487,  0.01315427,  0.01899061,  0.01030989,\n",
       "         0.02733365,  0.0216717 , -0.01057559,  0.00475295, -0.0078036 ,\n",
       "        -0.00756045,  0.00856338,  0.02074089,  0.00138848,  0.01641046,\n",
       "        -0.00999841, -0.01725177, -0.02382684,  0.02313154, -0.01889948,\n",
       "         0.01578822, -0.01327003, -0.01395472, -0.00077653,  0.02932519,\n",
       "         0.02286635, -0.00820871, -0.01558014,  0.00650264, -0.01516605,\n",
       "        -0.01171351,  0.01550453,  0.02233694], dtype=float32),\n",
       " array([[ 0.09469745],\n",
       "        [-0.10377517],\n",
       "        [-0.13099739],\n",
       "        [-0.05699259],\n",
       "        [ 0.01378505],\n",
       "        [ 0.15705377],\n",
       "        [-0.13062133],\n",
       "        [-0.02143996],\n",
       "        [ 0.06383913],\n",
       "        [-0.22589006],\n",
       "        [-0.1092158 ],\n",
       "        [ 0.00864347],\n",
       "        [ 0.16507426],\n",
       "        [ 0.14762005],\n",
       "        [-0.19959792],\n",
       "        [-0.02441508],\n",
       "        [ 0.20740674],\n",
       "        [ 0.17972852],\n",
       "        [ 0.09217361],\n",
       "        [-0.07407125],\n",
       "        [-0.04413866],\n",
       "        [-0.06667785],\n",
       "        [-0.2209512 ],\n",
       "        [-0.06476161],\n",
       "        [ 0.19975285],\n",
       "        [ 0.02112926],\n",
       "        [ 0.11675888],\n",
       "        [-0.17648175],\n",
       "        [-0.08411647],\n",
       "        [-0.05998034],\n",
       "        [ 0.00824334],\n",
       "        [ 0.12419965],\n",
       "        [ 0.00820376],\n",
       "        [ 0.16596076],\n",
       "        [-0.11516955],\n",
       "        [ 0.01171746],\n",
       "        [-0.13517307],\n",
       "        [-0.1053395 ],\n",
       "        [-0.15147623],\n",
       "        [-0.2199629 ],\n",
       "        [ 0.00431817],\n",
       "        [ 0.08741884],\n",
       "        [ 0.15381247],\n",
       "        [ 0.10521514],\n",
       "        [ 0.2163876 ],\n",
       "        [ 0.07106224],\n",
       "        [ 0.09916165],\n",
       "        [ 0.1657058 ],\n",
       "        [-0.166755  ],\n",
       "        [ 0.05477118],\n",
       "        [-0.1537968 ],\n",
       "        [-0.14154433],\n",
       "        [ 0.03518365],\n",
       "        [-0.17817129],\n",
       "        [ 0.04517434],\n",
       "        [ 0.06559805],\n",
       "        [ 0.1819776 ],\n",
       "        [ 0.10541023],\n",
       "        [ 0.0313675 ],\n",
       "        [ 0.10911547],\n",
       "        [-0.15447587],\n",
       "        [ 0.21442915],\n",
       "        [-0.21226016],\n",
       "        [ 0.17653917],\n",
       "        [-0.14752226],\n",
       "        [ 0.14544408],\n",
       "        [-0.01882185],\n",
       "        [ 0.0178404 ],\n",
       "        [ 0.0380424 ],\n",
       "        [ 0.13785748],\n",
       "        [ 0.11893611],\n",
       "        [-0.06046657],\n",
       "        [ 0.17325999],\n",
       "        [ 0.01028343],\n",
       "        [-0.16437303],\n",
       "        [-0.0272253 ],\n",
       "        [-0.09700639],\n",
       "        [ 0.1190014 ],\n",
       "        [-0.03230937],\n",
       "        [-0.22783366],\n",
       "        [ 0.10026195],\n",
       "        [ 0.1622156 ],\n",
       "        [ 0.01848525],\n",
       "        [ 0.03646917],\n",
       "        [ 0.13864268],\n",
       "        [ 0.18552968],\n",
       "        [ 0.26167777],\n",
       "        [-0.09415252],\n",
       "        [ 0.1851231 ],\n",
       "        [ 0.18116248],\n",
       "        [-0.17984168],\n",
       "        [-0.06534573],\n",
       "        [ 0.16845012],\n",
       "        [-0.07909934],\n",
       "        [-0.15493634],\n",
       "        [-0.10032979],\n",
       "        [-0.20323256],\n",
       "        [-0.09154069],\n",
       "        [-0.07353314],\n",
       "        [-0.08561943],\n",
       "        [ 0.10249272],\n",
       "        [ 0.10984456],\n",
       "        [-0.1034755 ],\n",
       "        [ 0.12242828],\n",
       "        [ 0.0947373 ],\n",
       "        [-0.01528626],\n",
       "        [-0.03690881],\n",
       "        [ 0.18460691],\n",
       "        [ 0.02404366],\n",
       "        [ 0.05239261],\n",
       "        [-0.06120005],\n",
       "        [ 0.18777628],\n",
       "        [-0.13795452],\n",
       "        [-0.08260296],\n",
       "        [-0.1867485 ],\n",
       "        [ 0.1382709 ],\n",
       "        [-0.03433052],\n",
       "        [ 0.1641706 ],\n",
       "        [-0.0628669 ],\n",
       "        [-0.05360409],\n",
       "        [ 0.17050047],\n",
       "        [ 0.16901852],\n",
       "        [-0.07418676],\n",
       "        [-0.09263676],\n",
       "        [-0.03481799],\n",
       "        [-0.15956677],\n",
       "        [ 0.25452057],\n",
       "        [ 0.00067745]], dtype=float32),\n",
       " array([-0.03931993], dtype=float32)]"
      ]
     },
     "execution_count": 14,
     "metadata": {},
     "output_type": "execute_result"
    }
   ],
   "source": [
    "model.get_weights()"
   ]
  },
  {
   "cell_type": "code",
   "execution_count": 15,
   "metadata": {},
   "outputs": [],
   "source": [
    "# step 2 : helper function\n",
    "# function to decode the review\n",
    "\n",
    "def decode_review(encoded_review):\n",
    "    return ' '.join([reverse_word_index.get(i-3,'?') for i in encoded_review])\n",
    "\n",
    "#function to preprocess user input\n",
    "def preprocess_text(text):\n",
    "    words = text.lower().split()\n",
    "    encoded_review = [word_index.get(word,2)+3 for word in words]\n",
    "    padded_review = sequence.pad_sequences([encoded_review],maxlen=500)\n",
    "    return padded_review"
   ]
  },
  {
   "cell_type": "code",
   "execution_count": 16,
   "metadata": {},
   "outputs": [],
   "source": [
    "## prediction function\n",
    "def predict_sentiment(review):\n",
    "    preprocessed_input = preprocess_text(review)\n",
    "    prediction = model.predict(preprocessed_input)\n",
    "    sentiment = 'positive' if prediction[0][0] > 0.5 else 'Negative'\n",
    "    return sentiment,prediction[0][0]\n",
    "\n"
   ]
  },
  {
   "cell_type": "code",
   "execution_count": 17,
   "metadata": {},
   "outputs": [
    {
     "name": "stdout",
     "output_type": "stream",
     "text": [
      "\u001b[1m1/1\u001b[0m \u001b[32m━━━━━━━━━━━━━━━━━━━━\u001b[0m\u001b[37m\u001b[0m \u001b[1m0s\u001b[0m 447ms/step\n",
      "Review:This movie was fantastic! The acting was great and the plot was thrilling.\n",
      "Sentiment:positive\n",
      "Prediction Score:0.7745464444160461\n"
     ]
    }
   ],
   "source": [
    "example_review = \"This movie was fantastic! The acting was great and the plot was thrilling.\"\n",
    "sentiment,score = predict_sentiment(example_review)\n",
    "print(f'Review:{example_review}')\n",
    "print(f'Sentiment:{sentiment}')\n",
    "print(f'Prediction Score:{score}')"
   ]
  },
  {
   "cell_type": "code",
   "execution_count": null,
   "metadata": {},
   "outputs": [],
   "source": []
  },
  {
   "cell_type": "code",
   "execution_count": null,
   "metadata": {},
   "outputs": [],
   "source": []
  },
  {
   "cell_type": "code",
   "execution_count": null,
   "metadata": {},
   "outputs": [],
   "source": []
  }
 ],
 "metadata": {
  "kernelspec": {
   "display_name": "Python 3",
   "language": "python",
   "name": "python3"
  },
  "language_info": {
   "codemirror_mode": {
    "name": "ipython",
    "version": 3
   },
   "file_extension": ".py",
   "mimetype": "text/x-python",
   "name": "python",
   "nbconvert_exporter": "python",
   "pygments_lexer": "ipython3",
   "version": "3.10.18"
  }
 },
 "nbformat": 4,
 "nbformat_minor": 2
}
